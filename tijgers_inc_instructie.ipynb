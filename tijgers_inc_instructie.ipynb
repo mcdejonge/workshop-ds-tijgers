{
 "cells": [
  {
   "cell_type": "markdown",
   "metadata": {},
   "source": [
    "# Data science-opdracht: tijgers (instructie + uitwerking)\n",
    "\n",
    "## Inleiding: wat is een data scientist?\n",
    "\n",
    "TODO\n",
    "\n",
    "## Inleiding\n",
    "\n",
    "Het Wereld Natuur Fonds (WNF) heeft jou gevraagd om als data scientist te helpen bij het beschermen van tijgers in India.\n",
    "\n",
    "Tijgers komen hier voor in het wild, maar ze worden ernstig bedreigd. De belangrijkste bedreiging is de mens: boeren denken dat tijgers hun koeien opeten en gaan daarom actief op jacht op tijgers dood te schieten.\n",
    "\n",
    "Op zich is het natuurlijk begrijpelijk dat boeren hun koeien willen beschermen, maar het WNF vraagt zich af of tijgers eigenlijk echt wel zoveel koeien eten als de boeren denken. Als dat helemaal niet zo blijkt te zijn, kunnen ze de boeren uitleggen dat tijgers voor hun koeien helemaal niet gevaarlijk zijn en houden de boeren op met tijgers doodschieten.\n",
    "\n",
    "Als het wél zo is dat tijgers koeien eten, wil het WNF boeren gaan helpen om hun koeien tegen tijgers te beschermen, bijvoorbeeld door ze subsidie te geven om hekken te plaatsen in plaats van de koeien gewoon in het wild te laten grazen, zoals nu vaak gebeurt. Of misschien kun jij nog wel een andere oplossing vinden op basis van de verzamelde data?\n",
    "\n",
    "Om erachter te komen wat tijgers eten, heeft het WNF biologiestudenten gevraagd zich een maand lang te verstoppen in het bos en met een verrekijker op zoek te gaan naar etende tijgers. Elke keer dat een student een tijger zag eten, noteerde hij of zij om welke tijger het ging (tijgers droegen zendertjes die van een afstand waren uit te lezen), welk prooidier de tijger aan het eten was en wanneer en waar de tijger werd gezien. Deze gegevens zijn opgeslagen in een Excel-bestand en het is nu aan jou als beginnend data scientist om deze gegevens te gebruiken om een antwoord te vinden op de vragen van het WNF.\n",
    "\n",
    "## De opdracht\n",
    "\n",
    "Zoals in de inleiding is uitgelegd, is er een bestand met gegevens over alle keren dat biologiestudenten een tijger een dier hebben zien opeten. Deze gegevens zijn opgeslagen in een Excel-bestand. De gegevens in dit bestand gaan we bekijken met behulp van de tool \"Jupyter Notebook\".\n"
   ]
  },
  {
   "cell_type": "markdown",
   "metadata": {},
   "source": [
    "\n",
    "\n",
    "### Stap 1: leer de data kennen\n",
    "\n",
    "Open het aangeleverde Excel-bestand. Op het tabblad \"Brondata\" vind je de ruwe data zoals die door de studenten biologie is verzameld. Elke regel op dit tabblad vertegenwoordigt een observatie (een situatie waarin een biologiestudent een tijger een dier heeft zien opeten). Om te beginnen gaan we kijken wat deze data betekent. In de praktijk is dat vaak veel werk en ben je daar als data scientist vaak dagen mee bezig maar voor deze opdracht geven we de betekenis van de kolommen hieronder.\n",
    "\n",
    "Kijk voor elke kolom of je begrijpt wat er precies in die kolom staat en wat de verschillende waarden betekenen. \n",
    "\n",
    "**BIJVOORBEELD** De kolom \"T_sex\" bevat het geslacht van de tijger. Een waarde van 1 betekent \"mannelijk\" en een waarde van 2 \"vrouwelijk\". Kun je, simpelweg door de kolom vluchtig te bekijken, iets zeggen over de verhouding tussen het aantal mannetjestijgers en het aantal vrouwtjestijgers?\n",
    "\n",
    "#### Kolommen\n",
    "\n",
    "- **T_ID** : Tiger ID oftewel de unieke code voor elke tijger.\n",
    "- **T_sex** : Het geslacht van de tijger: *1* is \"mannelijk\" en *2* is \"vrouwelijk\".\n",
    "- **Month** : Het nummer van de maand waarin de observatie is gedaan. 1 is januari, 2 is februari enzovoort.\n",
    "- **Season** : Het seizoen waarin de observatie is gedaan. *S* betekent \"summer\" (zomer), *R* betekent \"regentijd\" en *W* bekent \"winter\".\n",
    "- **Year** : Het jaar waarin de observatie is gedaan.\n",
    "- **Location** : Het dorp / gemeente waar de observatie is gedaan. Het kan zijn dat de biologiestudent vergeten is dit op te schrijven. In dat geval staat er \"UNKNOWN\" (onbekend).\n",
    "- **P_species** : Het type (\"species\") prooi (\"p\"). Als je niet weet welk dier er bedoeld wordt, kun je Wikipedia gebruiken. In sommige gevallen heeft de biologiestudent niet goed kunnen zien om welk prooidier het ging. In dat geval heeft deze kolom de waarde \"UNKNOWN\".\n",
    "- **Age_group** : De leeftijd van de prooi: \"ADULT\" (volwassen), \"YOUNG\" (jong) of \"UNKNOWN\" (onbekend).\n",
    "- **P_Sex** : Het geslacht van de prooi. Kan \"MALE\" (mannelijk) of \"FEMALE\" (vrouwelijk) zijn maar \"UNKOWN\" (onbekend) komt ook voor.\n",
    "- **2km_OF_Village** : Of de observatie is gedaan binnen 2 kilometer van het dorp (village) of niet. Wat zou 1 of 0 betekenen?\n",
    "- **250_OF_water** : Of de observatie is gedaan binnen 250 meter van een drinkplaats of rivier. 1 of 0 betekent hetzelfde als in de kolom **2km_OF_Village**.\n"
   ]
  },
  {
   "cell_type": "markdown",
   "metadata": {},
   "source": [
    "### Stap 1a : Instellen\n",
    "\n",
    "In deze opdracht werk je, net als professionele data scientists, met Python en Jupyter Notebook. \n",
    "\n",
    "Een Jupyter Notebook is een bestand waarin tekst wordt afgewisseld met blokken programmacode - en met de uitvoer van die programmacode. Het is een goede optie als je met data wil werken: in één en hetzelfde bestand kun je zowel uitleg geven over je data als bewerkingen en berekeningen uitvoeren en de resultaten daarvan weergeven.\n",
    "\n",
    "Het bestand dat je nu geopend hebt, is een Jupiter Notebook. De tekst die je nu leest, staat in een tekstblok en de programmacode hieronder in een codeblok.\n",
    "\n",
    "Om te zorgen dat je zo data science kunt doen, moeten er even wat zaken ingesteld worden. Hiervoor moet de code in het codeblok hieronder uitgevoerd worden. Dit doe je door te klikken op het codeblok en vervolgens op de play-knop (de knop met het driehoekje links van het codeblok) te klikken. Wanneer je dit doet, gaat Python voor je aan de slag. Dat kan even duren: een seconde of 30 is niet ongebruikelijk."
   ]
  },
  {
   "cell_type": "code",
   "execution_count": 3,
   "metadata": {},
   "outputs": [],
   "source": [
    "# Inladen bibliotheken. Deze code niet aanpassen!\n",
    "import pandas as pd\n",
    "import matplotlib.pyplot as plt\n",
    "\n"
   ]
  },
  {
   "cell_type": "markdown",
   "metadata": {},
   "source": [
    "### Stap 1b: Excel-bestand inlezen in Python\n",
    "\n",
    "In het codeblok hieronder wordt het Excel-bestand ingelezen zodat je straks aan de slag kunt met de gegevens die erin staan. Klik op de play-knop. Als het goed is, verschijnt er een tabelletje met een deel van de gegevens uit het Excel-bestand.\n",
    "\n",
    "Maak je geen zorgen: hoewel niet alle observaties in dat tabelletje worden weergegeven, zijn ze toch ingelezen. Dat kun je zien aan de rij met de puntjes: die betekent: \"er is nog meer data dan hier wordt weergegeven\"."
   ]
  },
  {
   "cell_type": "code",
   "execution_count": 5,
   "metadata": {},
   "outputs": [
    {
     "data": {
      "text/html": [
       "<div>\n",
       "<style scoped>\n",
       "    .dataframe tbody tr th:only-of-type {\n",
       "        vertical-align: middle;\n",
       "    }\n",
       "\n",
       "    .dataframe tbody tr th {\n",
       "        vertical-align: top;\n",
       "    }\n",
       "\n",
       "    .dataframe thead th {\n",
       "        text-align: right;\n",
       "    }\n",
       "</style>\n",
       "<table border=\"1\" class=\"dataframe\">\n",
       "  <thead>\n",
       "    <tr style=\"text-align: right;\">\n",
       "      <th></th>\n",
       "      <th>T_ID</th>\n",
       "      <th>T_sex</th>\n",
       "      <th>Month</th>\n",
       "      <th>Season</th>\n",
       "      <th>Year</th>\n",
       "      <th>Location</th>\n",
       "      <th>P_species</th>\n",
       "      <th>Age_group</th>\n",
       "      <th>P_Sex</th>\n",
       "      <th>2km_OF_Village</th>\n",
       "      <th>250_OF_water</th>\n",
       "    </tr>\n",
       "  </thead>\n",
       "  <tbody>\n",
       "    <tr>\n",
       "      <th>0</th>\n",
       "      <td>T1</td>\n",
       "      <td>2</td>\n",
       "      <td>4</td>\n",
       "      <td>S</td>\n",
       "      <td>2009</td>\n",
       "      <td>MADLA</td>\n",
       "      <td>CHEETAL</td>\n",
       "      <td>ADULT</td>\n",
       "      <td>MALE</td>\n",
       "      <td>1</td>\n",
       "      <td>1</td>\n",
       "    </tr>\n",
       "    <tr>\n",
       "      <th>1</th>\n",
       "      <td>T1</td>\n",
       "      <td>2</td>\n",
       "      <td>4</td>\n",
       "      <td>S</td>\n",
       "      <td>2009</td>\n",
       "      <td>JUDI</td>\n",
       "      <td>SAMBAR</td>\n",
       "      <td>ADULT</td>\n",
       "      <td>MALE</td>\n",
       "      <td>0</td>\n",
       "      <td>0</td>\n",
       "    </tr>\n",
       "    <tr>\n",
       "      <th>2</th>\n",
       "      <td>T1</td>\n",
       "      <td>2</td>\n",
       "      <td>4</td>\n",
       "      <td>S</td>\n",
       "      <td>2009</td>\n",
       "      <td>BHADAR</td>\n",
       "      <td>SAMBAR</td>\n",
       "      <td>ADULT</td>\n",
       "      <td>FEMALE</td>\n",
       "      <td>0</td>\n",
       "      <td>1</td>\n",
       "    </tr>\n",
       "    <tr>\n",
       "      <th>3</th>\n",
       "      <td>T1</td>\n",
       "      <td>2</td>\n",
       "      <td>4</td>\n",
       "      <td>S</td>\n",
       "      <td>2009</td>\n",
       "      <td>JUDI</td>\n",
       "      <td>CHEETAL</td>\n",
       "      <td>ADULT</td>\n",
       "      <td>MALE</td>\n",
       "      <td>0</td>\n",
       "      <td>0</td>\n",
       "    </tr>\n",
       "    <tr>\n",
       "      <th>4</th>\n",
       "      <td>T1</td>\n",
       "      <td>2</td>\n",
       "      <td>4</td>\n",
       "      <td>S</td>\n",
       "      <td>2009</td>\n",
       "      <td>PIPARTOLA</td>\n",
       "      <td>SAMBAR</td>\n",
       "      <td>ADULT</td>\n",
       "      <td>MALE</td>\n",
       "      <td>0</td>\n",
       "      <td>1</td>\n",
       "    </tr>\n",
       "    <tr>\n",
       "      <th>...</th>\n",
       "      <td>...</td>\n",
       "      <td>...</td>\n",
       "      <td>...</td>\n",
       "      <td>...</td>\n",
       "      <td>...</td>\n",
       "      <td>...</td>\n",
       "      <td>...</td>\n",
       "      <td>...</td>\n",
       "      <td>...</td>\n",
       "      <td>...</td>\n",
       "      <td>...</td>\n",
       "    </tr>\n",
       "    <tr>\n",
       "      <th>640</th>\n",
       "      <td>P212</td>\n",
       "      <td>1</td>\n",
       "      <td>4</td>\n",
       "      <td>S</td>\n",
       "      <td>2013</td>\n",
       "      <td>BILHATA</td>\n",
       "      <td>NILGAI</td>\n",
       "      <td>UNKNOWN</td>\n",
       "      <td>MALE</td>\n",
       "      <td>1</td>\n",
       "      <td>0</td>\n",
       "    </tr>\n",
       "    <tr>\n",
       "      <th>641</th>\n",
       "      <td>P212</td>\n",
       "      <td>1</td>\n",
       "      <td>4</td>\n",
       "      <td>S</td>\n",
       "      <td>2013</td>\n",
       "      <td>GANGAU</td>\n",
       "      <td>COW</td>\n",
       "      <td>ADULT</td>\n",
       "      <td>MALE</td>\n",
       "      <td>1</td>\n",
       "      <td>0</td>\n",
       "    </tr>\n",
       "    <tr>\n",
       "      <th>642</th>\n",
       "      <td>P212</td>\n",
       "      <td>1</td>\n",
       "      <td>5</td>\n",
       "      <td>S</td>\n",
       "      <td>2013</td>\n",
       "      <td>dksuh</td>\n",
       "      <td>COW</td>\n",
       "      <td>ADULT</td>\n",
       "      <td>MALE</td>\n",
       "      <td>1</td>\n",
       "      <td>0</td>\n",
       "    </tr>\n",
       "    <tr>\n",
       "      <th>643</th>\n",
       "      <td>P212</td>\n",
       "      <td>1</td>\n",
       "      <td>5</td>\n",
       "      <td>S</td>\n",
       "      <td>2013</td>\n",
       "      <td>JHALAR</td>\n",
       "      <td>COW</td>\n",
       "      <td>YOUNG</td>\n",
       "      <td>UNKNOWN</td>\n",
       "      <td>0</td>\n",
       "      <td>1</td>\n",
       "    </tr>\n",
       "    <tr>\n",
       "      <th>644</th>\n",
       "      <td>P212</td>\n",
       "      <td>1</td>\n",
       "      <td>5</td>\n",
       "      <td>S</td>\n",
       "      <td>2013</td>\n",
       "      <td>KHAMRIA</td>\n",
       "      <td>BUFFALO</td>\n",
       "      <td>YOUNG</td>\n",
       "      <td>UNKNOWN</td>\n",
       "      <td>0</td>\n",
       "      <td>1</td>\n",
       "    </tr>\n",
       "  </tbody>\n",
       "</table>\n",
       "<p>645 rows × 11 columns</p>\n",
       "</div>"
      ],
      "text/plain": [
       "     T_ID  T_sex  Month Season  Year   Location P_species Age_group    P_Sex  \\\n",
       "0      T1      2      4      S  2009      MADLA   CHEETAL     ADULT     MALE   \n",
       "1      T1      2      4      S  2009       JUDI    SAMBAR     ADULT     MALE   \n",
       "2      T1      2      4      S  2009     BHADAR    SAMBAR     ADULT   FEMALE   \n",
       "3      T1      2      4      S  2009       JUDI   CHEETAL     ADULT     MALE   \n",
       "4      T1      2      4      S  2009  PIPARTOLA    SAMBAR     ADULT     MALE   \n",
       "..    ...    ...    ...    ...   ...        ...       ...       ...      ...   \n",
       "640  P212      1      4      S  2013    BILHATA    NILGAI   UNKNOWN     MALE   \n",
       "641  P212      1      4      S  2013     GANGAU       COW     ADULT     MALE   \n",
       "642  P212      1      5      S  2013      dksuh       COW     ADULT     MALE   \n",
       "643  P212      1      5      S  2013     JHALAR       COW     YOUNG  UNKNOWN   \n",
       "644  P212      1      5      S  2013    KHAMRIA   BUFFALO     YOUNG  UNKNOWN   \n",
       "\n",
       "     2km_OF_Village  250_OF_water  \n",
       "0                 1             1  \n",
       "1                 0             0  \n",
       "2                 0             1  \n",
       "3                 0             0  \n",
       "4                 0             1  \n",
       "..              ...           ...  \n",
       "640               1             0  \n",
       "641               1             0  \n",
       "642               1             0  \n",
       "643               0             1  \n",
       "644               0             1  \n",
       "\n",
       "[645 rows x 11 columns]"
      ]
     },
     "execution_count": 5,
     "metadata": {},
     "output_type": "execute_result"
    }
   ],
   "source": [
    "tijgerdata = pd.read_excel(\"tijgers.xlsx\")\n",
    "tijgerdata"
   ]
  },
  {
   "cell_type": "markdown",
   "metadata": {},
   "source": [
    "\n",
    "### Stap 2: Ga de data verkennen\n",
    "\n",
    "Als een data scientist eenmaal weet wat de rijen en kolommen precies betekenen, is de volgende stap het verkennen van de data (\"data exploration\"). Hiervoor wordt vaak statistiek gebruikt (gemiddelde, mediaan, enzovoort). Ook maken data scientists vaak grafieken van de data om te kijken of ze iets bijzonders zien.\n",
    "\n",
    "Je gaat om te beginnen een grafiek maken om te kijken welk prooidier het meest wordt aangevallen door tijgers.\n",
    "\n",
    "Type hiervoor in het codeblok hieronder de volgende code en klik op de play-knop:\n",
    "\n",
    "```python\n",
    "tijgerdata['P_species'].hist()\n",
    "```\n",
    "\n",
    "Er verschijnt een diagram met de aantallen prooidieren per type prooidier. Zo'n diagram heet een \"histogram\", vandaar dat het commando \"hist()\" heet. Het histogram maken we van de kolom \"P_species\" van de dataset \"tijgerdata\", vandaar: `tijgerdata['P_species'].hist()`.\n",
    "\n",
    "Helaas is het niet zo goed te lezen. We moeten wat extra instructies toevoegen om te zorgen dat we een mooiere grafiek krijgen. Vervang de code die je hebt ingevoerd door de code hieronder. Die doet hetzelfde maar draait de namen van de kolommen zo dat ze elkaar niet overlappen en zorgt ervoor dat er wat witruimte komt tussen de kolommen. Ook worden de assen gelabeld en krijgt de grafiek een titel:\n",
    "\n",
    "```python\n",
    "tijgerdata['P_species'].hist(rwidth = 0.9)\n",
    "plt.xticks(rotation = 'vertical')\n",
    "\n",
    "plt.title('Aantallen prooidieren')\n",
    "plt.xlabel('Prooidier')\n",
    "plt.ylabel('Aantal')\n",
    "\n",
    "plt.show()\n",
    "```\n",
    "\n",
    "- Door \"rwidth = 0.9\" toe te voegen aan de opdracht \"hist()\" worden de kolommen smaller.\n",
    "- De opdracht \"plt.xticks(rotation = 'vertical')\" zorgt ervoor dat de labels van de x-as verticaal worden gedraaid.\n",
    "- \"plt.title\" stelt de titel in, \"plt.xlabel\" de titel van de x-as en \"plt.ylabel\" de titel van de y-as.\n",
    "- Als je titels instelt of iets anders aanpast aan je grafiek, moet je aan het einde de opdracht \"plt.show()\" geven om ervoor te zorgen dat je grafiek correct wordt weergegeven."
   ]
  },
  {
   "cell_type": "code",
   "execution_count": 11,
   "metadata": {},
   "outputs": [
    {
     "data": {
      "image/png": "[encoded data removed]",
      "text/plain": [
       "<Figure size 640x480 with 1 Axes>"
      ]
     },
     "metadata": {},
     "output_type": "display_data"
    }
   ],
   "source": [
    "tijgerdata['P_species'].hist(rwidth = 0.9)\n",
    "plt.title('Aantallen prooidieren')\n",
    "plt.xlabel('Prooidier')\n",
    "plt.ylabel('Aantal')\n",
    "plt.xticks(rotation = 'vertical')\n",
    "plt.show()"
   ]
  },
  {
   "cell_type": "markdown",
   "metadata": {},
   "source": [
    "### Stap 3: Een eerste resultaat\n",
    "\n",
    "Bekijk de grafiek die je hebt gemaakt. Kun je al iets zeggen over de dieren die door tijgers als prooidier worden opgegeten?\n",
    "\n",
    "Hebben de boeren gelijk als ze denken dat tijgers koeien eten?"
   ]
  },
  {
   "cell_type": "markdown",
   "metadata": {},
   "source": [
    "### Stap 4: Resultaten verfijnen\n",
    "\n",
    "Waarschijnlijk heb je ontdekt dat tijgers allerlei verschillende dieren eten, maar helaas toch ook graag af en toe een koe lusten. Maar wat betekent \"af en toe\" precies? Hiervoor moet je wat verder onderzoek doen.\n"
   ]
  },
  {
   "cell_type": "markdown",
   "metadata": {},
   "source": [
    "#### Stap 4a: Aantallen koeien\n",
    "\n",
    "Wat je wil weten is hoevel koeien er zijn opgegeten en hoeveel dieren die geen koe zijn.\n",
    "\n",
    "In Python kun je tellen met de opdracht \"len(het_ding_dat_je_wil_tellen)\".\n",
    "\n",
    "het_ding_dat_je_wil_tellen kan vanalles zijn. In dit geval willen we weten hoeveel observaties in \"tijgerdata\" een bepaalde waarde hebben in een bepaalde kolom.\n",
    "\n",
    "Als we bijvoorbeeld het aantal observaties in het dorp 'KHARIYA' willen weten, geven we de opdracht:\n",
    "\n",
    "```python\n",
    "len(tijgerdata[tijgerdata['Location'] == 'KHARIYA'])\n",
    "```\n",
    "\n",
    "We kunnen ook tellen hoeveel observaties er NIET in Khariya zijn gedaan. Hiervoor vervangen we \"==\" (is gelijk aan) door \"!=\" (is niet gelijk aan):\n",
    "\n",
    "\n",
    "```python\n",
    "len(tijgerdata[tijgerdata['Location'] != 'KHARIYA'])\n",
    "```\n",
    "\n",
    "Deze voorbeelcode kun je in het codeblok hieronder typen. Als je vervolgens op de play-knop klikt, verschijnt het antwoord.\n",
    "\n",
    "Let erop dat je maar van één opdracht tegelijk het antwoord kunt weergeven. Tel dus ofwel het aantal observaties in Khariya ofwel het aantal observaties dat NIET in Khariya is gedaan - maar niet allebei tegelijk.\n",
    "\n",
    "De notatie `tijgerdata[tijgerdata['Location'] == 'KHARIYA']` betekent: alle rijen in \"tijgerdata\" waarvoor geldt dat de kolom \"Location\" in \"tijgerdata\" gelijk is (\"==\") aan KHARIYA. Als je namen van kolommen (\"Location\") of waarden van kolommen (\"KHARIYA\") invoert, moet je *enkele* aanhalingstekens gebruiken anders begrijpt Python niet wat je bedoelt.\n",
    "\n",
    "Kun je uitzoeken hoeveel van de in totaal 645 prooidieren er een koe (\"COW\") waren?"
   ]
  },
  {
   "cell_type": "code",
   "execution_count": 37,
   "metadata": {},
   "outputs": [
    {
     "data": {
      "text/plain": [
       "243"
      ]
     },
     "execution_count": 37,
     "metadata": {},
     "output_type": "execute_result"
    }
   ],
   "source": [
    "# Type hieronder je code, op een nieuwe regel. Deze tekst, die begint met een #, kun je laten staan.\n",
    "len(tijgerdata[tijgerdata['P_species'] == 'COW'])\n",
    "\n"
   ]
  },
  {
   "cell_type": "markdown",
   "metadata": {},
   "source": [
    "#### Stap 4b: WAAR eten tijgers koeien?\n",
    "\n",
    "Het zou kunnen, dat tijgers op sommige plekken vaker koeien opeten dan op andere momenten. Met Python kun je dit gemakkelijk uitzoeken: je kunt namelijk opdrachten combineren.\n",
    "\n",
    "Hierboven vroeg je alle observaties op die gedaan zijn in het dorp Khariya met de opdracht `tijgerdata[tijgerdata['Location'] == 'KHARIYA']`. Stel dat je zou willen weten welke verschillende prooidieren er in Khariya zijn opgegeten. In dat geval pas je de code die je hierboven hebt gebruikt aan als volgt:\n",
    "\n",
    "```python\n",
    "tijgerdata[tijgerdata['Location'] == 'KHARIYA']['P_species'].hist(rwidth = 0.9)\n",
    "plt.title('Aantallen prooidieren in Khariya')\n",
    "plt.xlabel('Prooidier')\n",
    "plt.ylabel('Aantal')\n",
    "plt.xticks(rotation = 'vertical')\n",
    "plt.show()\n",
    "```\n",
    "\n",
    "Met andere woorden: achter de selectie (\"alleen observaties gedaan in Khariya\") `tijgerdata[tijgerdata['Location'] == 'KHARIYA']` plak je de opdracht voor het tonen van een histogram (`[naam_van_kolom_tussen_enkele_aanhalingstekens].hist()`)\n",
    "\n",
    "Plak deze code in het codeblok hieronder en voer hem uit. Valt je iets op?\n"
   ]
  },
  {
   "cell_type": "code",
   "execution_count": 33,
   "metadata": {},
   "outputs": [
    {
     "data": {
      "image/png": "[encoded data removed]",
      "text/plain": [
       "<Figure size 640x480 with 1 Axes>"
      ]
     },
     "metadata": {},
     "output_type": "display_data"
    }
   ],
   "source": [
    "# Type hieronder je code, op een nieuwe regel. Deze tekst, die begint met een #, kun je laten staan.\n",
    "\n",
    "tijgerdata[tijgerdata['Location'] == 'KHARIYA']['P_species'].hist(rwidth = 0.9)\n",
    "plt.title('Aantallen prooidieren in Khariya')\n",
    "plt.xlabel('Prooidier')\n",
    "plt.ylabel('Aantal')\n",
    "plt.xticks(rotation = 'vertical')\n",
    "plt.show()\n"
   ]
  },
  {
   "cell_type": "markdown",
   "metadata": {},
   "source": [
    "#### Stap 4c: WANNEER eten tijgers koeien?\n",
    "\n",
    "Klaarblijkelijk zijn er dorpen waar tijgers wél koeien eten en dorpen waar ze dat niet doen. Met Python kun je uitzoeken in welke dorpen tijgers een probleem kunnen zijn, maar dat is voor deze oefening helaas iets te ingewikkeld: je moet dan namelijk voor elk dorp uitrekenen hoeveel dieren er in totaal zijn opgegeten in dat dorp, hoeveel van die dieren koeien waren en wat het uiteindelijke percentage koeien is per dorp. Als je HBO-ICT gaat studeren, gaan we je natuurlijk leren hoe dat moet, maar voor nu beperken we ons tot een eenvoudigere vraag:\n",
    "\n",
    "Zijn er perioden zijn in het jaar dat tijgers vaker koeien eten dan in andere perioden?\n",
    "\n",
    "Probeer zowel voor de seizoenen als voor de maanden uit te zoeken hoeveel koeien er worden opgegeten.\n",
    "\n",
    "Hint: zorg ervoor dat je eerst een selectie maakt van alle gevallen waarin er een COW is opgegeten. Maak vervolgens een histogram van de kolom waarin je geinteresseerd bent."
   ]
  },
  {
   "cell_type": "code",
   "execution_count": 38,
   "metadata": {},
   "outputs": [
    {
     "data": {
      "image/png": "[encoded data removed]",
      "text/plain": [
       "<Figure size 640x480 with 1 Axes>"
      ]
     },
     "metadata": {},
     "output_type": "display_data"
    }
   ],
   "source": [
    "# Type hieronder je code, op een nieuwe regel. Deze tekst, die begint met een #, kun je laten staan.\n",
    "\n",
    "tijgerdata[tijgerdata['P_species'] == 'COW']['Month'].hist(rwidth = 0.9)\n",
    "plt.title('Aantallen koeien per maand')\n",
    "plt.xlabel('Maand')\n",
    "plt.ylabel('Aantal')\n",
    "plt.show()"
   ]
  },
  {
   "cell_type": "markdown",
   "metadata": {},
   "source": [
    "## Tijd over? Ga zelf iets proberen!\n",
    "\n",
    "Heb je de opdrachten hierboven uitgevoerd en heb je tijd over, ga dan in het codeblok hieronder zelf wat proberen.\n",
    "\n",
    "Er zijn allemaal vragen over de eetgewoonten van tijgers in India die je kunt beantwoorden met deze data en met wat je hierboven hebt geleerd.\n",
    "\n",
    "Bijvoorbeeld:\n",
    "\n",
    "- Eten mannetjestijgers andere dieren dan vrouwtjestijgers?\n",
    "- Neemt het aantal aanvallen van tijgers op koeien elk jaar toe?\n",
    "- Worden koeien vaker aangevallen in de buurt van water of juist niet?\n",
    "- Worden koeien vaker aangevallen in de buurt van een dorp of juist niet?\n",
    "- Zijn er tijgers die meer koeien aanvallen dan andere?\n",
    "- Etc. Veel plezier!"
   ]
  },
  {
   "cell_type": "code",
   "execution_count": null,
   "metadata": {},
   "outputs": [],
   "source": [
    "# Typ hieronder je eigen code. Deze regel, die begint met een #, kun je laten staan. Heb je iets interessants gevonden? Vertel het ons!\n"
   ]
  }
 ],
 "metadata": {
  "kernelspec": {
   "display_name": "Python 3",
   "language": "python",
   "name": "python3"
  },
  "language_info": {
   "codemirror_mode": {
    "name": "ipython",
    "version": 3
   },
   "file_extension": ".py",
   "mimetype": "text/x-python",
   "name": "python",
   "nbconvert_exporter": "python",
   "pygments_lexer": "ipython3",
   "version": "3.12.5"
  }
 },
 "nbformat": 4,
 "nbformat_minor": 2
}
